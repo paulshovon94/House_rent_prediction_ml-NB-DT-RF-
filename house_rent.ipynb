{
 "cells": [
  {
   "cell_type": "code",
   "execution_count": 3,
   "metadata": {},
   "outputs": [],
   "source": [
    "import pandas as pd\n",
    "import matplotlib.pyplot as plt\n",
    "data=pd.read_excel('s_dataset.xlsx')"
   ]
  },
  {
   "cell_type": "code",
   "execution_count": 4,
   "metadata": {},
   "outputs": [],
   "source": [
    "\n",
    "X= data.drop(['Timestamp','Gender','Age','Occupation','Live with','Resident Area','Rent','Satisfactions', 'Class'], axis=1)\n",
    "#X.info()\n",
    "y = data['Class']"
   ]
  },
  {
   "cell_type": "code",
   "execution_count": 5,
   "metadata": {},
   "outputs": [],
   "source": [
    "from sklearn.model_selection import train_test_split\n",
    "from sklearn import tree ,metrics\n",
    "\n",
    "X_train, X_test, y_train, y_test = train_test_split(X, y, test_size=0.3,random_state=00)  \n"
   ]
  },
  {
   "cell_type": "code",
   "execution_count": 6,
   "metadata": {},
   "outputs": [
    {
     "name": "stdout",
     "output_type": "stream",
     "text": [
      "['M' 'M' 'M' 'M' 'M' 'L' 'H' 'M' 'H' 'M' 'M' 'M' 'M' 'M' 'M' 'M' 'M' 'M'\n",
      " 'M' 'M' 'M' 'M' 'M' 'M' 'L' 'M' 'M' 'M' 'M' 'H' 'M' 'M' 'M' 'H' 'M' 'M'\n",
      " 'M']\n"
     ]
    }
   ],
   "source": [
    "model = tree.DecisionTreeClassifier(criterion='entropy', max_depth=3, random_state=0)\n",
    "model.fit(X_train, y_train)\n",
    "#house_type=int(input(\"Enter House Type : \"))\n",
    "#floor=int(input(\"Enter Floor No. : \"))\n",
    "#rooms=int(input(\"Enter Number of Rooms : \"))\n",
    "#bedrooms=int(input(\"Enter Number of Bedrooms(yes press 1 or No press 0) : \"))\n",
    "#Bathrooms=int(input(\"Enter Number of BathRooms : \"))\n",
    "#total_area=int(input(\"Enter House Total Area : \"))\n",
    "#gas=int(input(\"Gas Yes or No : \"))\n",
    "#lift=int(input(\"Lift Yes or No : \"))\n",
    "#generator=int(input(\"Ganerator Yes or No : \"))\n",
    "#fire_protection=int(input(\"fire_protection Yes or No : \"))\n",
    "#inter_com=int(input(\"Inter Com Yes or No : \"))\n",
    "#garbage_shoot=int(input(\"Grarbage Shoot Yes or No : \"))\n",
    "#balcony=int(input(\"Balcony Yes or No : \"))\n",
    "#cctv=int(input(\"CCTV Yes or No : \"))\n",
    "#car_parking=int(input(\"Car Parking Yes or No : \"))\n",
    "#roof_top_garden=int(input(\"Roof Top Garden Yes or No : \"))\n",
    "#security=int(input(\"Security Yes or No : \"))\n",
    "#bbq_area=int(input(\"BBQ area Yes or No : \"))\n",
    "#community_hall=int(input(\"Community Hall Yes or No : \"))\n",
    "\n",
    "#X_new=[[house_type,floor,rooms,bedrooms,Bathrooms,total_area,gas,lift,\n",
    "       # generator,fire_protection,inter_com,garbage_shoot,balcony,cctv,car_parking,roof_top_garden,security,bbq_area,community_hall]]\n",
    "#y_predict = model.predict(X_new)\n",
    "y_predict=model.predict(X_test)\n",
    "print(y_predict)"
   ]
  },
  {
   "cell_type": "code",
   "execution_count": 7,
   "metadata": {},
   "outputs": [
    {
     "name": "stdout",
     "output_type": "stream",
     "text": [
      "Misclassified samples: 11\n",
      "Accuracy: 0.70\n"
     ]
    }
   ],
   "source": [
    "# how did our model perform?\n",
    "count_misclassified = (y_test != y_predict).sum()\n",
    "print('Misclassified samples: {}'.format(count_misclassified))\n",
    "accuracy = metrics.accuracy_score(y_test, y_predict)\n",
    "print('Accuracy: {:.2f}'.format(accuracy))"
   ]
  },
  {
   "cell_type": "code",
   "execution_count": 8,
   "metadata": {},
   "outputs": [
    {
     "name": "stdout",
     "output_type": "stream",
     "text": [
      "['L' 'L' 'M' 'M' 'L' 'M' 'H' 'H' 'H' 'L' 'L' 'H' 'H' 'M' 'L' 'L' 'M' 'M'\n",
      " 'L' 'M' 'M' 'H' 'M' 'L' 'M' 'L' 'H' 'H' 'L' 'L' 'L' 'M' 'L' 'L' 'M' 'M'\n",
      " 'H']\n",
      "Misclassified samples: 18\n",
      "Accuracy: 0.51\n"
     ]
    }
   ],
   "source": [
    "from sklearn.naive_bayes import GaussianNB\n",
    "from sklearn.model_selection import train_test_split\n",
    "from sklearn import metrics\n",
    "X_train, X_test, y_train, y_test = train_test_split(X, y, test_size=0.3,random_state=20) \n",
    "model = GaussianNB()\n",
    "model.fit(X_train, y_train)\n",
    "y_predict = model.predict(X_test)\n",
    "print(y_predict)\n",
    "# how did our model perform?\n",
    "count_misclassified = (y_test != y_predict).sum()\n",
    "print('Misclassified samples: {}'.format(count_misclassified))\n",
    "accuracy = metrics.accuracy_score(y_test, y_predict)\n",
    "print('Accuracy: {:.2f}'.format(accuracy))"
   ]
  },
  {
   "cell_type": "code",
   "execution_count": 9,
   "metadata": {},
   "outputs": [],
   "source": [
    "import pandas as pd\n",
    "import numpy as np\n",
    "import matplotlib.pyplot as plt\n",
    "import seaborn as sns\n",
    "%matplotlib inline\n",
    "from sklearn.model_selection import train_test_split\n",
    "x_train,x_test,y_train,y_test = train_test_split(X,y, test_size=0.3, random_state =20)"
   ]
  },
  {
   "cell_type": "code",
   "execution_count": 10,
   "metadata": {},
   "outputs": [
    {
     "name": "stdout",
     "output_type": "stream",
     "text": [
      "['M' 'L' 'L' 'M' 'M' 'M' 'H' 'M' 'M' 'L' 'L' 'M' 'M' 'L' 'L' 'M' 'M' 'M'\n",
      " 'L' 'M' 'M' 'M' 'M' 'L' 'M' 'L' 'M' 'M' 'L' 'M' 'M' 'M' 'M' 'L' 'M' 'M'\n",
      " 'H']\n",
      "Misclassified samples: 13\n",
      "Accuracy: 0.65\n"
     ]
    }
   ],
   "source": [
    "from sklearn.ensemble import RandomForestClassifier\n",
    "model = RandomForestClassifier(n_estimators=10, criterion='entropy')\n",
    "model.fit(x_train,y_train)\n",
    "y_predict = model.predict(x_test)\n",
    "print(y_predict)\n",
    "# how did our model perform?\n",
    "count_misclassified = (y_test != y_predict).sum()\n",
    "print('Misclassified samples: {}'.format(count_misclassified))\n",
    "accuracy = metrics.accuracy_score(y_test, y_predict)\n",
    "print('Accuracy: {:.2f}'.format(accuracy))"
   ]
  },
  {
   "cell_type": "code",
   "execution_count": null,
   "metadata": {},
   "outputs": [],
   "source": []
  },
  {
   "cell_type": "code",
   "execution_count": null,
   "metadata": {},
   "outputs": [],
   "source": []
  }
 ],
 "metadata": {
  "kernelspec": {
   "display_name": "Python 3",
   "language": "python",
   "name": "python3"
  },
  "language_info": {
   "codemirror_mode": {
    "name": "ipython",
    "version": 3
   },
   "file_extension": ".py",
   "mimetype": "text/x-python",
   "name": "python",
   "nbconvert_exporter": "python",
   "pygments_lexer": "ipython3",
   "version": "3.7.3"
  }
 },
 "nbformat": 4,
 "nbformat_minor": 2
}
